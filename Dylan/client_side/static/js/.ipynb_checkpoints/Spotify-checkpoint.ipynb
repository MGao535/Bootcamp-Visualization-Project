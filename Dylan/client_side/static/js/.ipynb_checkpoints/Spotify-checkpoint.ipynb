{
 "cells": [
  {
   "cell_type": "code",
   "execution_count": null,
   "metadata": {},
   "outputs": [],
   "source": [
    "import spotipy\n",
    "import spotipy.util as util\n",
    "from spotipy.oauth2 import SpotifyClientCredentials\n",
    "import spotipy.oauth2 as oauth2\n",
    "import pprint\n",
    "import pandas as pd"
   ]
  },
  {
   "cell_type": "code",
   "execution_count": null,
   "metadata": {},
   "outputs": [],
   "source": [
    "df = pd.read_csv('LatLong.txt', encoding=\"utf-8\")\n",
    "df"
   ]
  },
  {
   "cell_type": "code",
   "execution_count": null,
   "metadata": {},
   "outputs": [],
   "source": [
    "CLIENT_ID = \"d76e0263612746c1891673bca5220cd0\"\n",
    "CLIENT_SECRET = \"7c34c892933d446fae874d28b3f6a9b2\"\n",
    "\n",
    "credentials = oauth2.SpotifyClientCredentials(\n",
    "        client_id=CLIENT_ID,\n",
    "        client_secret=CLIENT_SECRET)\n",
    "\n",
    "token = credentials.get_access_token()\n",
    "spotify = spotipy.Spotify(auth=token)\n",
    "\n",
    "playlist_info = []\n",
    "country_list = []\n",
    "\n",
    "for i in range(0,10):\n",
    "    #print(playlist)\n",
    "    country_list.append(df['Playlist'][i])\n",
    "    playlist_info.append(spotify.playlist_tracks(df['Playlist'][i], market=None, additional_types=('track', )))\n",
    "\n",
    "\n",
    "#playlist = spotify.playlist_tracks('37i9dQZEVXbMMy2roB9myp', market=None, additional_types=('track', ))\n",
    "# res = spotify.audio_features(track)\n",
    "# pprint.pprint(playlist['items'][0]['track'])\n",
    "print(playlist_info)\n"
   ]
  },
  {
   "cell_type": "code",
   "execution_count": null,
   "metadata": {},
   "outputs": [],
   "source": [
    "print(len(playlist_info))"
   ]
  },
  {
   "cell_type": "code",
   "execution_count": null,
   "metadata": {},
   "outputs": [],
   "source": [
    "for i in range(10,20):\n",
    "    #print(playlist)\n",
    "    country_list.append(df['Playlist'][i])\n",
    "    playlist_info.append(spotify.playlist_tracks(df['Playlist'][i], market=None, additional_types=('track', )))"
   ]
  },
  {
   "cell_type": "code",
   "execution_count": null,
   "metadata": {},
   "outputs": [],
   "source": [
    "for i in range(20,30):\n",
    "    #print(playlist)\n",
    "    country_list.append(df['Playlist'][i])\n",
    "    playlist_info.append(spotify.playlist_tracks(df['Playlist'][i], market=None, additional_types=('track', )))"
   ]
  },
  {
   "cell_type": "code",
   "execution_count": null,
   "metadata": {},
   "outputs": [],
   "source": [
    "for i in range(30,40):\n",
    "    #print(playlist)\n",
    "    country_list.append(df['Playlist'][i])\n",
    "    playlist_info.append(spotify.playlist_tracks(df['Playlist'][i], market=None, additional_types=('track', )))"
   ]
  },
  {
   "cell_type": "code",
   "execution_count": null,
   "metadata": {},
   "outputs": [],
   "source": [
    "for i in range(40,50):\n",
    "    #print(playlist)\n",
    "    country_list.append(df['Playlist'][i])\n",
    "    playlist_info.append(spotify.playlist_tracks(df['Playlist'][i], market=None, additional_types=('track', )))"
   ]
  },
  {
   "cell_type": "code",
   "execution_count": null,
   "metadata": {},
   "outputs": [],
   "source": [
    "for i in range(50,61):\n",
    "    #print(playlist)\n",
    "    country_list.append(df['Playlist'][i])\n",
    "    playlist_info.append(spotify.playlist_tracks(df['Playlist'][i], market=None, additional_types=('track', )))"
   ]
  },
  {
   "cell_type": "code",
   "execution_count": null,
   "metadata": {},
   "outputs": [],
   "source": [
    "country_dict = {}\n",
    "\n",
    "for playlist in range(61):\n",
    "    for track in range(3):\n",
    "        song_id = playlist_info[playlist]['items'][track]['track']['id']\n",
    "        uri = country_list[playlist]\n",
    "        #print(uri)\n",
    "        if uri not in country_dict.keys():\n",
    "            country_dict[uri] = spotify.audio_features(song_id)\n",
    "        else:\n",
    "            country_dict[uri].append(spotify.audio_features(song_id))\n",
    "            \n",
    "pprint.pprint(country_dict)\n",
    "        \n",
    "#         song_id.append(playlist_info[playlist]['items'][track]['track']['id'])\n",
    "# pprint.pprint(song_id)"
   ]
  },
  {
   "cell_type": "code",
   "execution_count": null,
   "metadata": {},
   "outputs": [],
   "source": [
    "pprint.pprint(country_dict)"
   ]
  },
  {
   "cell_type": "code",
   "execution_count": null,
   "metadata": {},
   "outputs": [],
   "source": [
    "rec = spotify.artist_related_artists(artist)\n"
   ]
  },
  {
   "cell_type": "code",
   "execution_count": null,
   "metadata": {},
   "outputs": [],
   "source": [
    "recartist = []\n",
    "for artist in range(10):\n",
    "    recartist.append(rec['artists'][artist]['name'])\n",
    "pprint.pprint(recartist)"
   ]
  },
  {
   "cell_type": "code",
   "execution_count": null,
   "metadata": {},
   "outputs": [],
   "source": [
    "top_song_analysis = spotify.audio_analysis(song_id[0])"
   ]
  },
  {
   "cell_type": "code",
   "execution_count": null,
   "metadata": {},
   "outputs": [],
   "source": [
    "(top_song_analysis['segments'][0]['loudness_max'])"
   ]
  },
  {
   "cell_type": "code",
   "execution_count": null,
   "metadata": {},
   "outputs": [],
   "source": [
    "for loudness in top_song_analysis['segments']:\n",
    "    print (loudness['loudness_max'])"
   ]
  },
  {
   "cell_type": "code",
   "execution_count": null,
   "metadata": {},
   "outputs": [],
   "source": [
    "loud_dict = {}\n",
    "loud_list = []\n",
    "\n",
    "for key in country_dict:\n",
    "    #pprint.pprint(country_dict[key][0]['id'])\n",
    "    song_id = country_dict[key][0]['id']\n",
    "    top_song_analysis = spotify.audio_analysis(song_id)\n",
    "    for loudness in top_song_analysis['segments']:\n",
    "        loud_list.append(loudness['loudness_max'])\n",
    "    loud_dict[key] = loud_list\n",
    "\n",
    "#pprint.pprint(loud_dict)\n",
    "            \n",
    "        \n",
    "        "
   ]
  },
  {
   "cell_type": "code",
   "execution_count": null,
   "metadata": {},
   "outputs": [],
   "source": []
  },
  {
   "cell_type": "code",
   "execution_count": null,
   "metadata": {},
   "outputs": [],
   "source": []
  }
 ],
 "metadata": {
  "kernelspec": {
   "display_name": "Python 3",
   "language": "python",
   "name": "python3"
  },
  "language_info": {
   "codemirror_mode": {
    "name": "ipython",
    "version": 3
   },
   "file_extension": ".py",
   "mimetype": "text/x-python",
   "name": "python",
   "nbconvert_exporter": "python",
   "pygments_lexer": "ipython3",
   "version": "3.7.4"
  },
  "toc": {
   "base_numbering": 1,
   "nav_menu": {},
   "number_sections": true,
   "sideBar": true,
   "skip_h1_title": false,
   "title_cell": "Table of Contents",
   "title_sidebar": "Contents",
   "toc_cell": false,
   "toc_position": {},
   "toc_section_display": true,
   "toc_window_display": false
  }
 },
 "nbformat": 4,
 "nbformat_minor": 2
}
